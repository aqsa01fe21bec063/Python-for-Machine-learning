{
  "cells": [
    {
      "cell_type": "markdown",
      "metadata": {
        "id": "g80l1yPgj7WN"
      },
      "source": [
        "# **Basics of numpy and pandas**"
      ]
    },
    {
      "cell_type": "markdown",
      "metadata": {
        "id": "zy7OZ8ThkL6c"
      },
      "source": [
        "**Numpy**"
      ]
    },
    {
      "cell_type": "code",
      "execution_count": null,
      "metadata": {
        "colab": {
          "base_uri": "https://localhost:8080/"
        },
        "id": "CTSo6lpRkKsz",
        "outputId": "097bef3e-7a0b-4e82-aa76-7bd3044815b6"
      },
      "outputs": [
        {
          "name": "stdout",
          "output_type": "stream",
          "text": [
            "[10 20 30 40]\n",
            "[[10 20 30 40]\n",
            " [ 1  2  3  4]]\n"
          ]
        }
      ],
      "source": [
        "import numpy as np\n",
        "\n",
        "n1=np.array([10,20,30,40])   #1D array\n",
        "print(n1)\n",
        "\n",
        "n2=np.array([[10,20,30,40],[1,2,3,4]])   #multidimensional array\n",
        "print(n2)"
      ]
    },
    {
      "cell_type": "code",
      "execution_count": null,
      "metadata": {
        "colab": {
          "base_uri": "https://localhost:8080/"
        },
        "id": "yr_Xa9G7lU6o",
        "outputId": "c0c8a32a-503f-491f-f33c-afedd20417d9"
      },
      "outputs": [
        {
          "name": "stdout",
          "output_type": "stream",
          "text": [
            "[[0. 0. 0. 0. 0.]\n",
            " [0. 0. 0. 0. 0.]\n",
            " [0. 0. 0. 0. 0.]\n",
            " [0. 0. 0. 0. 0.]\n",
            " [0. 0. 0. 0. 0.]]\n"
          ]
        }
      ],
      "source": [
        "#initialising numpy with zeroes\n",
        "\n",
        "n1=np.zeros((5,5))\n",
        "print(n1)\n",
        "\n",
        "\n"
      ]
    },
    {
      "cell_type": "code",
      "execution_count": null,
      "metadata": {
        "colab": {
          "base_uri": "https://localhost:8080/"
        },
        "id": "20xmb-rQl3s9",
        "outputId": "eb61b056-8287-444b-c340-6d43f5729afd"
      },
      "outputs": [
        {
          "data": {
            "text/plain": [
              "array([[10, 10],\n",
              "       [10, 10]])"
            ]
          },
          "execution_count": 6,
          "metadata": {},
          "output_type": "execute_result"
        }
      ],
      "source": [
        "#initialising numpy with one particular value\n",
        "n1=np.full((2,2),10)\n",
        "n1"
      ]
    },
    {
      "cell_type": "code",
      "execution_count": null,
      "metadata": {
        "colab": {
          "base_uri": "https://localhost:8080/"
        },
        "id": "n3mG6BeJl72G",
        "outputId": "b331f0c9-2252-4525-c404-7f63ff02091f"
      },
      "outputs": [
        {
          "data": {
            "text/plain": [
              "array([10, 11, 12, 13, 14, 15, 16, 17, 18, 19])"
            ]
          },
          "execution_count": 10,
          "metadata": {},
          "output_type": "execute_result"
        }
      ],
      "source": [
        "#initializing numpy array within the range\n",
        "\n",
        "n1=np.arange(10,20)\n",
        "n1"
      ]
    },
    {
      "cell_type": "code",
      "execution_count": null,
      "metadata": {
        "colab": {
          "base_uri": "https://localhost:8080/"
        },
        "id": "Idw5SLyjmND3",
        "outputId": "ca6470d3-8b50-4eaf-93dd-940ac8a126b2"
      },
      "outputs": [
        {
          "data": {
            "text/plain": [
              "array([10, 15, 20, 25, 30, 35, 40, 45])"
            ]
          },
          "execution_count": 11,
          "metadata": {},
          "output_type": "execute_result"
        }
      ],
      "source": [
        "#initializing numpy array within the range with specific interval in between\n",
        "\n",
        "n1=np.arange(10,50,5)   #10 to 50 with a gap of 5 in between\n",
        "n1"
      ]
    },
    {
      "cell_type": "code",
      "execution_count": null,
      "metadata": {
        "colab": {
          "base_uri": "https://localhost:8080/"
        },
        "id": "G8ynW4MgmcEX",
        "outputId": "6c5d80fd-1d8a-4a19-de71-c28681386d41"
      },
      "outputs": [
        {
          "data": {
            "text/plain": [
              "array([ 2, 46, 26,  7,  4])"
            ]
          },
          "execution_count": 13,
          "metadata": {},
          "output_type": "execute_result"
        }
      ],
      "source": [
        "#initializing numpy arrays with random numbers\n",
        "\n",
        "n1=np.random.randint(1,100,5)  #any  5 nos between 1 to 100\n",
        "n1"
      ]
    },
    {
      "cell_type": "code",
      "execution_count": null,
      "metadata": {
        "colab": {
          "base_uri": "https://localhost:8080/"
        },
        "id": "OCH7MVDnm2p6",
        "outputId": "a7ec0c74-4ede-4ce9-93ba-e94f6061fea5"
      },
      "outputs": [
        {
          "name": "stdout",
          "output_type": "stream",
          "text": [
            "(2, 4)\n",
            "(3, 4)\n"
          ]
        }
      ],
      "source": [
        "#checking the shape of numpy arrays\n",
        "\n",
        "n2=np.array([[10,20,30,40],[1,2,3,4]])\n",
        "print(n2.shape)\n",
        "\n",
        "\n",
        "n3=np.array([[10,20,30,40],[1,2,3,4],[6,3,4,5]])\n",
        "print(n3.shape)\n"
      ]
    },
    {
      "cell_type": "code",
      "execution_count": null,
      "metadata": {
        "colab": {
          "base_uri": "https://localhost:8080/"
        },
        "id": "ydrUGwpPnaOZ",
        "outputId": "99f93b64-e6d7-4ae8-fc32-0e9415b6e8cd"
      },
      "outputs": [
        {
          "name": "stdout",
          "output_type": "stream",
          "text": [
            "(2, 4)\n",
            "[[10 20]\n",
            " [30 40]\n",
            " [ 1  2]\n",
            " [ 3  4]]\n",
            "[[10]\n",
            " [20]\n",
            " [30]\n",
            " [40]\n",
            " [ 1]\n",
            " [ 2]\n",
            " [ 3]\n",
            " [ 4]]\n"
          ]
        }
      ],
      "source": [
        "#converting the shape of matrix by altering shape\n",
        "\n",
        "\n",
        "\n",
        "n2=np.array([[10,20,30,40],[1,2,3,4]])\n",
        "print(n2.shape)\n",
        "\n",
        "n2.shape=(4,2)\n",
        "print(n2)\n",
        "\n",
        "\n",
        "n2.shape=(8,1)\n",
        "print(n2)"
      ]
    },
    {
      "cell_type": "code",
      "execution_count": null,
      "metadata": {
        "colab": {
          "base_uri": "https://localhost:8080/"
        },
        "id": "e1sOk1X-n7gf",
        "outputId": "ee59ffad-b5e5-41ff-ed7f-dd3139e41af3"
      },
      "outputs": [
        {
          "data": {
            "text/plain": [
              "array([[10, 20, 30, 40],\n",
              "       [ 1,  2,  3,  4]])"
            ]
          },
          "execution_count": 25,
          "metadata": {},
          "output_type": "execute_result"
        }
      ],
      "source": [
        "#joining two numpy arrays\n",
        "\n",
        "n1=np.array([10,20,30,40])\n",
        "n2=np.array([1,2,3,4])\n",
        "np.vstack((n1,n2))  #for vertical stacking\n",
        "\n"
      ]
    },
    {
      "cell_type": "code",
      "execution_count": null,
      "metadata": {
        "colab": {
          "base_uri": "https://localhost:8080/"
        },
        "id": "kOjh6x7AqR99",
        "outputId": "a8d6414f-ae0d-47a3-aa33-2b8ad65e577d"
      },
      "outputs": [
        {
          "data": {
            "text/plain": [
              "array([10, 20, 30, 40,  1,  2,  3,  4])"
            ]
          },
          "execution_count": 27,
          "metadata": {},
          "output_type": "execute_result"
        }
      ],
      "source": [
        "np.hstack((n1,n2))  #for horizontal stacking\n"
      ]
    },
    {
      "cell_type": "code",
      "execution_count": null,
      "metadata": {
        "colab": {
          "base_uri": "https://localhost:8080/"
        },
        "id": "TC45Z82hqYrB",
        "outputId": "275512de-1d16-4b7b-e559-1f0798d1a20e"
      },
      "outputs": [
        {
          "data": {
            "text/plain": [
              "array([[10,  1],\n",
              "       [20,  2],\n",
              "       [30,  3],\n",
              "       [40,  4]])"
            ]
          },
          "execution_count": 28,
          "metadata": {},
          "output_type": "execute_result"
        }
      ],
      "source": [
        "np.column_stack((n1,n2))  #for column stacking"
      ]
    },
    {
      "cell_type": "code",
      "execution_count": null,
      "metadata": {
        "colab": {
          "base_uri": "https://localhost:8080/"
        },
        "id": "FZFudiMqqesE",
        "outputId": "a7fbb7fc-8cf6-46d8-9102-d8b8f157c23c"
      },
      "outputs": [
        {
          "data": {
            "text/plain": [
              "array([[10, 20, 30, 40],\n",
              "       [ 1,  2,  3,  4]])"
            ]
          },
          "execution_count": 29,
          "metadata": {},
          "output_type": "execute_result"
        }
      ],
      "source": [
        "np.row_stack((n1,n2))  #for row stacking"
      ]
    },
    {
      "cell_type": "code",
      "execution_count": null,
      "metadata": {
        "colab": {
          "base_uri": "https://localhost:8080/"
        },
        "id": "ykQN-d_bqoVz",
        "outputId": "c30fea5c-294d-43a4-e20f-9e6eec65c0ed"
      },
      "outputs": [
        {
          "data": {
            "text/plain": [
              "11.180339887498949"
            ]
          },
          "execution_count": 30,
          "metadata": {},
          "output_type": "execute_result"
        }
      ],
      "source": [
        "#Numpy math function\n",
        "\n",
        "np.std(n1)   #for standard deviation"
      ]
    },
    {
      "cell_type": "code",
      "execution_count": null,
      "metadata": {
        "colab": {
          "base_uri": "https://localhost:8080/"
        },
        "id": "QwMVC3lWq3ij",
        "outputId": "9e68c1b4-a05a-4270-c6b3-094f19cc0f14"
      },
      "outputs": [
        {
          "data": {
            "text/plain": [
              "25.0"
            ]
          },
          "execution_count": 31,
          "metadata": {},
          "output_type": "execute_result"
        }
      ],
      "source": [
        "np.mean(n1)   #for mean of a array"
      ]
    },
    {
      "cell_type": "code",
      "execution_count": null,
      "metadata": {
        "colab": {
          "base_uri": "https://localhost:8080/"
        },
        "id": "VnkcZUSBrBhD",
        "outputId": "869868ca-bd04-4ad4-d54e-860e9cdb4f30"
      },
      "outputs": [
        {
          "data": {
            "text/plain": [
              "25.0"
            ]
          },
          "execution_count": 32,
          "metadata": {},
          "output_type": "execute_result"
        }
      ],
      "source": [
        "np.median(n1)   #for median of a array"
      ]
    },
    {
      "cell_type": "code",
      "execution_count": null,
      "metadata": {
        "colab": {
          "base_uri": "https://localhost:8080/"
        },
        "id": "U5uK0jhxrMSH",
        "outputId": "a80e4a4f-a4e7-497b-fe74-78cb52906499"
      },
      "outputs": [
        {
          "data": {
            "text/plain": [
              "110"
            ]
          },
          "execution_count": 33,
          "metadata": {},
          "output_type": "execute_result"
        }
      ],
      "source": [
        "#Numpy array mathematical opeartions\n",
        "n1=np.array([10,20,30,40])\n",
        "n2=np.array([1,2,3,4])\n",
        "np.sum([n1,n2])  #for normal sum\n"
      ]
    },
    {
      "cell_type": "code",
      "execution_count": null,
      "metadata": {
        "colab": {
          "background_save": true
        },
        "id": "0QjbhammrtfX",
        "outputId": "ecfea959-a5e9-4f5a-df8c-482903c2034e"
      },
      "outputs": [
        {
          "ename": "SyntaxError",
          "evalue": "ignored",
          "output_type": "error",
          "traceback": [
            "\u001b[0;36m  File \u001b[0;32m\"<ipython-input-34-77fa6b7f9b16>\"\u001b[0;36m, line \u001b[0;32m1\u001b[0m\n\u001b[0;31m    for only column addition\u001b[0m\n\u001b[0m             ^\u001b[0m\n\u001b[0;31mSyntaxError\u001b[0m\u001b[0;31m:\u001b[0m invalid syntax\n"
          ]
        }
      ],
      "source": [
        "#for only column addition\n",
        "\n",
        "np.sum([n1,n2],axis=0)"
      ]
    }
  ],
  "metadata": {
    "colab": {
      "toc_visible": true,
      "provenance": []
    },
    "kernelspec": {
      "display_name": "Python 3",
      "name": "python3"
    },
    "language_info": {
      "name": "python"
    }
  },
  "nbformat": 4,
  "nbformat_minor": 0
}