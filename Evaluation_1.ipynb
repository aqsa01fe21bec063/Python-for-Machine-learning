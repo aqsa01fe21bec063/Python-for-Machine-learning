{
  "nbformat": 4,
  "nbformat_minor": 0,
  "metadata": {
    "colab": {
      "provenance": [],
      "toc_visible": true
    },
    "kernelspec": {
      "name": "python3",
      "display_name": "Python 3"
    },
    "language_info": {
      "name": "python"
    }
  },
  "cells": [
    {
      "cell_type": "markdown",
      "source": [
        "**check a no is prime or not**"
      ],
      "metadata": {
        "id": "20qwrR1z59j4"
      }
    },
    {
      "cell_type": "code",
      "source": [
        "num=int(input(\"enter the no\"))\n",
        "x=int(num/2)\n",
        "m=int(x+1)\n",
        "for i in range (2, x):\n",
        "  y=num%i\n",
        "\n",
        "  if y==0:\n",
        "    break\n",
        "\n",
        "if  y!=0:\n",
        "    print(\"it is prime number\")\n",
        "\n",
        "\n",
        "else:\n",
        "  print(\"it is not prime number\")\n",
        "\n",
        "  if(num%3)==0:\n",
        "    print(\"it is divisible by 3\")\n",
        "\n",
        "\n",
        "  elif(num%5)==0:\n",
        "    print(\"it is divisible by 5\")\n",
        "\n",
        "  elif(num%7)==0:\n",
        "    print(\"it is divisible by 7\")\n",
        "\n",
        "  elif(num%11)==0:\n",
        "    print(\"it is divisible by 11\")"
      ],
      "metadata": {
        "id": "oGWrom6KqRbA"
      },
      "execution_count": null,
      "outputs": []
    },
    {
      "cell_type": "markdown",
      "source": [
        "**Check a given string is palindrome**"
      ],
      "metadata": {
        "id": "Lh-Z5EXB6D7j"
      }
    },
    {
      "cell_type": "code",
      "source": [
        "word=input(\"enter string\")\n",
        "x=len(word)\n",
        "\n",
        "z=list(word)\n",
        "y=x/2\n",
        "n=x-1\n",
        "\n",
        "for i in range (0,5):\n",
        "  m=i\n",
        "  if(z[i]==z[n]):\n",
        "    p=1\n",
        "    n=n-1\n",
        "  else:\n",
        "    p=0\n",
        "    break\n",
        "\n",
        "if p==1:\n",
        "  print(\"string is palindrome\")\n",
        "\n",
        "elif  p==0:\n",
        "  print(\"string is not a palindrome\")\n",
        "\n",
        "\n"
      ],
      "metadata": {
        "id": "i_LLbJW1i2eV"
      },
      "execution_count": null,
      "outputs": []
    },
    {
      "cell_type": "markdown",
      "source": [
        "**Print the pattern**"
      ],
      "metadata": {
        "id": "BqMYWC0b6TWu"
      }
    },
    {
      "cell_type": "code",
      "source": [
        "x=int(input(\"enter a number\"))\n",
        "for i in range (0,x):\n",
        "  print(\"*\"*(i+1))\n"
      ],
      "metadata": {
        "id": "ji1VvySmkliM"
      },
      "execution_count": null,
      "outputs": []
    },
    {
      "cell_type": "markdown",
      "source": [
        "**even and odd**"
      ],
      "metadata": {
        "id": "z6rIbwMA6Xll"
      }
    },
    {
      "cell_type": "code",
      "source": [
        "import numpy as np\n",
        "\n",
        "lis=np.zeros(10)\n",
        "even=np.zeros(10)\n",
        "odd=np.zeros(10)\n",
        "\n",
        "for i in range (0,10):\n",
        "  x=int(input(\"enter an element \"))\n",
        "  lis[i]=x\n",
        "\n",
        "for i in range (0,10):\n",
        "  if(lis[i]%2)==0:\n",
        "    even[i]=lis[i]\n",
        "  else:\n",
        "    odd[i]=lis[i]\n",
        "\n",
        "print(even)\n",
        "print(odd)\n"
      ],
      "metadata": {
        "colab": {
          "base_uri": "https://localhost:8080/"
        },
        "id": "_za5xN3nk7D1",
        "outputId": "b5b6d61f-0c17-4dd1-fd58-4ea05d661356"
      },
      "execution_count": null,
      "outputs": [
        {
          "output_type": "stream",
          "name": "stdout",
          "text": [
            "enter an element 1\n",
            "enter an element 2\n",
            "enter an element 3\n",
            "enter an element 4\n",
            "enter an element 5\n",
            "enter an element 6\n",
            "enter an element 7\n",
            "enter an element 8\n",
            "enter an element 9\n",
            "enter an element 2\n",
            "[0. 2. 0. 4. 0. 6. 0. 8. 0. 2.]\n",
            "[1. 0. 3. 0. 5. 0. 7. 0. 9. 0.]\n"
          ]
        }
      ]
    }
  ]
}